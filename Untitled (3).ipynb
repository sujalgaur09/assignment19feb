{
 "cells": [
  {
   "cell_type": "code",
   "execution_count": 3,
   "id": "fe77d318-5148-43bf-b075-2620ac46d1e7",
   "metadata": {},
   "outputs": [
    {
     "name": "stdout",
     "output_type": "stream",
     "text": [
      "ANSWER1\n",
      "FLASK FRAMEWORK =Flask is a microframework for developers, designed to enable them to create and scale web apps quickly and simply. it is an phytonic library\n",
      "\n",
      "ADVANTAGES =\n",
      "scalable \n",
      "flexible\n",
      "easy to negociate\n",
      "lightweight\n",
      "documentation\n"
     ]
    }
   ],
   "source": [
    "print(\"\"\"ANSWER1\n",
    "FLASK FRAMEWORK =Flask is a microframework for developers, designed to enable them to create and scale web apps quickly and simply. it is an phytonic library\n",
    "\n",
    "ADVANTAGES =\n",
    "scalable \n",
    "flexible\n",
    "easy to negociate\n",
    "lightweight\n",
    "documentation\"\"\")"
   ]
  },
  {
   "cell_type": "code",
   "execution_count": 4,
   "id": "b333fafb-6c24-4489-b825-bd9b1288ed93",
   "metadata": {},
   "outputs": [
    {
     "name": "stdout",
     "output_type": "stream",
     "text": [
      "ANSWER2\n"
     ]
    }
   ],
   "source": [
    "print(\"ANSWER2\")"
   ]
  },
  {
   "cell_type": "markdown",
   "id": "c074c6b1-519c-496c-a524-c1a6f7288fef",
   "metadata": {},
   "source": [
    "![](feba.jpg)"
   ]
  },
  {
   "cell_type": "code",
   "execution_count": 13,
   "id": "888add38-06b1-49b3-99f6-2a91f7a397a8",
   "metadata": {},
   "outputs": [
    {
     "name": "stdout",
     "output_type": "stream",
     "text": [
      "ANSWER3:\n",
      "APP ROUTING IN FLASK=App routing is used to map the specific URL with the associated function that is intended to perform some task .\n",
      "\n",
      "USE=It is used to access some particular page like Flask Tutorial in the web application.\n",
      "\n"
     ]
    }
   ],
   "source": [
    "print(\"\"\"ANSWER3:\n",
    "APP ROUTING IN FLASK=App routing is used to map the specific URL with the associated function that is intended to perform some task .\n",
    "\n",
    "USE=It is used to access some particular page like Flask Tutorial in the web application.\n",
    "\"\"\")"
   ]
  },
  {
   "cell_type": "code",
   "execution_count": 7,
   "id": "e434b7cb-2951-43bd-ab42-79e627c88693",
   "metadata": {},
   "outputs": [
    {
     "name": "stdout",
     "output_type": "stream",
     "text": [
      "ANSWER 4:\n"
     ]
    }
   ],
   "source": [
    "print (\"ANSWER 4:\")"
   ]
  },
  {
   "cell_type": "markdown",
   "id": "7a219d0d-437e-4358-9874-657547e1a782",
   "metadata": {},
   "source": [
    "![](febb.jpg)"
   ]
  },
  {
   "cell_type": "markdown",
   "id": "c704b9ed-7daa-4db4-a031-21325e33bab1",
   "metadata": {},
   "source": [
    "![](febc.jpg)"
   ]
  },
  {
   "cell_type": "code",
   "execution_count": 8,
   "id": "d51c8dfb-7193-487e-bc95-20dbd6ff4667",
   "metadata": {},
   "outputs": [
    {
     "name": "stdout",
     "output_type": "stream",
     "text": [
      "ANSWER 5:Flask – URL Building\n",
      "The url_for() function is very useful for dynamically building a URL for a specific function. The function accepts the name of a function as first argument, and one or more keyword arguments, each corresponding to the variable part of URL.\n"
     ]
    }
   ],
   "source": [
    "print(\"\"\"ANSWER 5:Flask – URL Building\n",
    "The url_for() function is very useful for dynamically building a URL for a specific function. The function accepts the name of a function as first argument, and one or more keyword arguments, each corresponding to the variable part of URL.\"\"\")"
   ]
  },
  {
   "cell_type": "code",
   "execution_count": 11,
   "id": "7ddaea63-3365-42c3-8729-39efb73eddea",
   "metadata": {},
   "outputs": [
    {
     "ename": "ModuleNotFoundError",
     "evalue": "No module named 'flask'",
     "output_type": "error",
     "traceback": [
      "\u001b[0;31m---------------------------------------------------------------------------\u001b[0m",
      "\u001b[0;31mModuleNotFoundError\u001b[0m                       Traceback (most recent call last)",
      "Cell \u001b[0;32mIn[11], line 1\u001b[0m\n\u001b[0;32m----> 1\u001b[0m \u001b[38;5;28;01mfrom\u001b[39;00m \u001b[38;5;21;01mflask\u001b[39;00m \u001b[38;5;28;01mimport\u001b[39;00m url_for, Flask\n\u001b[1;32m      2\u001b[0m appFlask \u001b[38;5;241m=\u001b[39m Flask(\u001b[38;5;18m__name__\u001b[39m)\n\u001b[1;32m      3\u001b[0m \u001b[38;5;129m@appFlask\u001b[39m\u001b[38;5;241m.\u001b[39mroute(\u001b[38;5;124m'\u001b[39m\u001b[38;5;124m/home\u001b[39m\u001b[38;5;124m'\u001b[39m)\n\u001b[1;32m      4\u001b[0m \u001b[38;5;28;01mdef\u001b[39;00m \u001b[38;5;21mhome\u001b[39m():\n",
      "\u001b[0;31mModuleNotFoundError\u001b[0m: No module named 'flask'"
     ]
    }
   ],
   "source": [
    "\n",
    "from flask import url_for, Flask\n",
    "appFlask = Flask(__name__)\n",
    "@appFlask.route('/home')\n",
    "def home():\n",
    "   return 'We are in Home Page!'\n",
    "with appFlask.test_request_context():\n",
    "    print(url_for('login'))"
   ]
  },
  {
   "cell_type": "code",
   "execution_count": 14,
   "id": "ea37e93e-e83a-4a62-9a8e-0fc04ed99da4",
   "metadata": {},
   "outputs": [
    {
     "name": "stdout",
     "output_type": "stream",
     "text": [
      "thanku\n"
     ]
    }
   ],
   "source": [
    "print(\"thanku\")"
   ]
  },
  {
   "cell_type": "code",
   "execution_count": null,
   "id": "f796a7c8-994d-4647-bcf8-54b88aba5e08",
   "metadata": {},
   "outputs": [],
   "source": []
  }
 ],
 "metadata": {
  "kernelspec": {
   "display_name": "Python 3 (ipykernel)",
   "language": "python",
   "name": "python3"
  },
  "language_info": {
   "codemirror_mode": {
    "name": "ipython",
    "version": 3
   },
   "file_extension": ".py",
   "mimetype": "text/x-python",
   "name": "python",
   "nbconvert_exporter": "python",
   "pygments_lexer": "ipython3",
   "version": "3.10.8"
  }
 },
 "nbformat": 4,
 "nbformat_minor": 5
}
